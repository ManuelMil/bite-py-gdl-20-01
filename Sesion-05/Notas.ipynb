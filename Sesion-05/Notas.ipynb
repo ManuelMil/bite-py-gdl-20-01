{
 "cells": [
  {
   "cell_type": "markdown",
   "metadata": {},
   "source": [
    "# Programación Orientada a Objetos en Python"
   ]
  },
  {
   "cell_type": "markdown",
   "metadata": {},
   "source": [
    "1. Definir los objetos\n",
    "\n",
    "- Elemento\n",
    "    - nombre\n",
    "    - tamanio\n",
    "    - fecha\n",
    "\n",
    "- Carpeta(Elemento):\n",
    "  - Usar: nombre, tamanio, fecha\n",
    "    \n",
    "- Archivo(Elemento):\n",
    "\n",
    "Resultado:\n",
    "- Total"
   ]
  },
  {
   "cell_type": "markdown",
   "metadata": {},
   "source": [
    "# Reto 1: Modificar el script lc.py para hacer uso del objeto Archivo() (nivel semidios)"
   ]
  },
  {
   "cell_type": "markdown",
   "metadata": {},
   "source": [
    "# Códigos ANSI"
   ]
  },
  {
   "cell_type": "markdown",
   "metadata": {},
   "source": [
    "# Reto (opcional): Modificar el script lc.py para indicar la cantidad de archivos con una extensión dada y indicar cuales son. Ej .py\n",
    "\n",
    "```\n",
    "...\n",
    "nom1.py  50 fech\n",
    "nom2.py 456 fech\n",
    "Se encontraron 2 archivos con extensión .py\n",
    "```"
   ]
  },
  {
   "cell_type": "code",
   "execution_count": null,
   "metadata": {},
   "outputs": [],
   "source": []
  }
 ],
 "metadata": {
  "kernelspec": {
   "display_name": "Python 3",
   "language": "python",
   "name": "python3"
  },
  "language_info": {
   "codemirror_mode": {
    "name": "ipython",
    "version": 3
   },
   "file_extension": ".py",
   "mimetype": "text/x-python",
   "name": "python",
   "nbconvert_exporter": "python",
   "pygments_lexer": "ipython3",
   "version": "3.7.4"
  }
 },
 "nbformat": 4,
 "nbformat_minor": 4
}
