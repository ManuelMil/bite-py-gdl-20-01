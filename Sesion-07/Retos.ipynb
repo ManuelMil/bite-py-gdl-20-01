{
 "cells": [
  {
   "cell_type": "markdown",
   "metadata": {},
   "source": [
    "### Reto 1: Modificar el script google_soup.py para quedescargue la lista de fotos de la página principal del sito https://unsplash.com/ y las guarde en la carpeta img/ localmente."
   ]
  },
  {
   "cell_type": "markdown",
   "metadata": {},
   "source": [
    "### Reto 2: Obtener la lista de todos los productos del sito [HotSale](https://listado.mercadolibre.com.mx/_Deal_hotsaledeals#DEAL_ID=MLM2654&S=landingHubhot%20sale&V=28&T=CarouselDynamic-normal&L=VER_MAS&deal_print_id=f1c8ec30-9ed9-11ea-aa1f-8dfc82ac00c5) siguiendo la paginación de Marcado libre creando el script `mercadolibre.py` y guardando los resultados en el archivo `mercadolibre.csv`"
   ]
  },
  {
   "cell_type": "code",
   "execution_count": null,
   "metadata": {},
   "outputs": [],
   "source": []
  }
 ],
 "metadata": {
  "kernelspec": {
   "display_name": "Python 3",
   "language": "python",
   "name": "python3"
  },
  "language_info": {
   "codemirror_mode": {
    "name": "ipython",
    "version": 3
   },
   "file_extension": ".py",
   "mimetype": "text/x-python",
   "name": "python",
   "nbconvert_exporter": "python",
   "pygments_lexer": "ipython3",
   "version": "3.7.4"
  }
 },
 "nbformat": 4,
 "nbformat_minor": 4
}
