{
 "cells": [
  {
   "cell_type": "markdown",
   "metadata": {},
   "source": [
    "# Web scraping"
   ]
  },
  {
   "cell_type": "markdown",
   "metadata": {},
   "source": [
    "---\n",
    "### BeautifulSoup"
   ]
  },
  {
   "cell_type": "markdown",
   "metadata": {},
   "source": [
    "### Creando el script google_soup.py"
   ]
  },
  {
   "cell_type": "markdown",
   "metadata": {},
   "source": [
    "---\n",
    "### Scrapy\n",
    "\n",
    "Instalación:\n",
    "\n",
    "```\n",
    "$ pip install scrapy\n",
    "```"
   ]
  },
  {
   "cell_type": "markdown",
   "metadata": {},
   "source": [
    "Ejemplo: Utilizar scrapy para obtener todas las citas bibliográficas del sitio https://quotes.toscrape.com y su autor siguiendo la paginación creando el scrpt `citas.py` y guardando los resultados en el archivo `citas.csv`"
   ]
  },
  {
   "cell_type": "markdown",
   "metadata": {},
   "source": [
    "Reto: Obtener la lista de todos los productos del sito [HotSale](https://listado.mercadolibre.com.mx/_Deal_hotsaledeals#DEAL_ID=MLM2654&S=landingHubhot%20sale&V=28&T=CarouselDynamic-normal&L=VER_MAS&deal_print_id=f1c8ec30-9ed9-11ea-aa1f-8dfc82ac00c5) siguiendo la paginación de Marcado libre creando el script `mercadolibre.py` y guardando los resultados en el archivo `mercadolibre.csv`"
   ]
  },
  {
   "cell_type": "code",
   "execution_count": null,
   "metadata": {},
   "outputs": [],
   "source": []
  }
 ],
 "metadata": {
  "kernelspec": {
   "display_name": "Python 3",
   "language": "python",
   "name": "python3"
  },
  "language_info": {
   "codemirror_mode": {
    "name": "ipython",
    "version": 3
   },
   "file_extension": ".py",
   "mimetype": "text/x-python",
   "name": "python",
   "nbconvert_exporter": "python",
   "pygments_lexer": "ipython3",
   "version": "3.7.4"
  }
 },
 "nbformat": 4,
 "nbformat_minor": 4
}
