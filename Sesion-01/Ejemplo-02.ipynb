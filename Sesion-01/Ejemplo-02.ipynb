{
 "cells": [
  {
   "cell_type": "markdown",
   "metadata": {},
   "source": [
    "# Hola mundo en python"
   ]
  },
  {
   "cell_type": "markdown",
   "metadata": {},
   "source": [
    "Vamos a ejecutar el clásico hola mundo en python usando jupyter lab"
   ]
  },
  {
   "cell_type": "code",
   "execution_count": 2,
   "metadata": {},
   "outputs": [
    {
     "name": "stdout",
     "output_type": "stream",
     "text": [
      "Hola mundo de Python desde GDL y CDMX\n"
     ]
    }
   ],
   "source": [
    "print(\"Hola mundo de Python desde GDL y CDMX\")"
   ]
  },
  {
   "cell_type": "markdown",
   "metadata": {},
   "source": [
    "## Calcular el volumen de un cubo\n",
    "\n",
    "V = L x L x L"
   ]
  },
  {
   "cell_type": "code",
   "execution_count": 3,
   "metadata": {},
   "outputs": [
    {
     "data": {
      "text/plain": [
       "125000"
      ]
     },
     "execution_count": 3,
     "metadata": {},
     "output_type": "execute_result"
    }
   ],
   "source": [
    "L = 50\n",
    "V = L * L * L\n",
    "V"
   ]
  },
  {
   "cell_type": "markdown",
   "metadata": {},
   "source": [
    "## Calcular el volumen de una esfera de radio 80\n",
    "\n",
    "V = 4 / 3 Pi * R ^ 3"
   ]
  },
  {
   "cell_type": "code",
   "execution_count": 5,
   "metadata": {},
   "outputs": [
    {
     "data": {
      "text/plain": [
       "2144660.1386666666"
      ]
     },
     "execution_count": 5,
     "metadata": {},
     "output_type": "execute_result"
    }
   ],
   "source": [
    "Pi = 3.141592\n",
    "R = 80\n",
    "V = 4 / 3 * Pi * R ** 3\n",
    "V"
   ]
  },
  {
   "cell_type": "markdown",
   "metadata": {},
   "source": [
    "## Generar la tabla de multiplicar 3"
   ]
  },
  {
   "cell_type": "code",
   "execution_count": 14,
   "metadata": {},
   "outputs": [
    {
     "name": "stdout",
     "output_type": "stream",
     "text": [
      "  3 x   1 =    3\n",
      "  3 x   2 =    6\n",
      "  3 x   3 =    9\n",
      "  3 x   4 =   12\n",
      "  3 x   5 =   15\n",
      "  3 x  10 =   30\n",
      "  3 x 100 =  300\n"
     ]
    }
   ],
   "source": [
    "n = 3\n",
    "print(\"{:3} x {:3} = {:4}\".format(n, 1, n*1))\n",
    "print(\"{:3} x {:3} = {:4}\".format(n, 2, n*2))\n",
    "print(\"{:3} x {:3} = {:4}\".format(n, 3, n*3))\n",
    "print(\"{:3} x {:3} = {:4}\".format(n, 4, n*4))\n",
    "print(\"{:3} x {:3} = {:4}\".format(n, 5, n*5))\n",
    "print(\"{:3} x {:3} = {:4}\".format(n, 10, n*10))\n",
    "print(\"{:3} x {:3} = {:4}\".format(n, 100, n*100))\n"
   ]
  },
  {
   "cell_type": "markdown",
   "metadata": {},
   "source": [
    "## Generar la tabla de multiplicar del 11"
   ]
  },
  {
   "cell_type": "code",
   "execution_count": 15,
   "metadata": {},
   "outputs": [
    {
     "name": "stdout",
     "output_type": "stream",
     "text": [
      " 11 x   1 =   11\n",
      " 11 x   2 =   22\n",
      " 11 x   3 =   33\n",
      " 11 x   4 =   44\n",
      " 11 x   5 =   55\n",
      " 11 x  10 =  110\n",
      " 11 x 100 = 1100\n"
     ]
    }
   ],
   "source": [
    "n = 11\n",
    "print(\"{:3} x {:3} = {:4}\".format(n, 1, n*1))\n",
    "print(\"{:3} x {:3} = {:4}\".format(n, 2, n*2))\n",
    "print(\"{:3} x {:3} = {:4}\".format(n, 3, n*3))\n",
    "print(\"{:3} x {:3} = {:4}\".format(n, 4, n*4))\n",
    "print(\"{:3} x {:3} = {:4}\".format(n, 5, n*5))\n",
    "print(\"{:3} x {:3} = {:4}\".format(n, 10, n*10))\n",
    "print(\"{:3} x {:3} = {:4}\".format(n, 100, n*100))\n"
   ]
  },
  {
   "cell_type": "markdown",
   "metadata": {},
   "source": [
    "# Ciclo for en python, range"
   ]
  },
  {
   "cell_type": "code",
   "execution_count": 20,
   "metadata": {},
   "outputs": [
    {
     "name": "stdout",
     "output_type": "stream",
     "text": [
      " 11 x   1 =   11\n",
      " 11 x   2 =   22\n",
      " 11 x   3 =   33\n",
      " 11 x   4 =   44\n",
      " 11 x   5 =   55\n",
      " 11 x   6 =   66\n",
      " 11 x   7 =   77\n",
      " 11 x   8 =   88\n",
      " 11 x   9 =   99\n",
      " 11 x  10 =  110\n"
     ]
    }
   ],
   "source": [
    "for i in range(1,11):\n",
    "    print(\"{:3} x {:3} = {:4}\".format(n, i, n*i))\n",
    "    "
   ]
  },
  {
   "cell_type": "markdown",
   "metadata": {},
   "source": [
    "# Reto: fizzbuzz.py\n",
    "Muestra en pantalla los números del 1 al 20, sustituyendo los múltiplos de 3 por la palabra “Fizz” y, a su vez, los múltiplos de 5 por “Buzz”. Para los números que, al tiempo, son múltiplos de 3 y 5, utiliza el combinado “FizzBuzz”.\n",
    "```\n",
    "1\n",
    "2\n",
    "Fizz\n",
    "4\n",
    "Buzz\n",
    "Fizz\n",
    "7\n",
    "8\n",
    "Fizz\n",
    "Buzz\n",
    "11\n",
    "Fizz\n",
    "13\n",
    "14\n",
    "FizzBuzz\n",
    "16\n",
    "17\n",
    "Fizz\n",
    "19\n",
    "Buzz\n",
    "```"
   ]
  },
  {
   "cell_type": "code",
   "execution_count": 34,
   "metadata": {},
   "outputs": [
    {
     "name": "stdout",
     "output_type": "stream",
     "text": [
      "1\n",
      "2\n",
      "Fizz\n",
      "4\n",
      "Buzz\n",
      "Fizz\n",
      "7\n",
      "8\n",
      "Fizz\n",
      "Buzz\n",
      "11\n",
      "Fizz\n",
      "13\n",
      "14\n",
      "FizzBuzz\n",
      "16\n",
      "17\n",
      "Fizz\n",
      "19\n",
      "Buzz\n"
     ]
    }
   ],
   "source": [
    "i=1\n",
    "while i<=20:\n",
    "    print(\"Fizz\"*(i%3==0)+(i%5==0)*\"Buzz\" or i)\n",
    "    i+=1  # i = i + 1"
   ]
  },
  {
   "cell_type": "code",
   "execution_count": 23,
   "metadata": {},
   "outputs": [
    {
     "data": {
      "text/plain": [
       "''"
      ]
     },
     "execution_count": 23,
     "metadata": {},
     "output_type": "execute_result"
    }
   ],
   "source": [
    "\"Manuel\" * (4 % 5 == 0) + \"Ariel\" * (4 % 3 == 0) or 4"
   ]
  },
  {
   "cell_type": "code",
   "execution_count": 17,
   "metadata": {},
   "outputs": [
    {
     "data": {
      "text/plain": [
       "2"
      ]
     },
     "execution_count": 17,
     "metadata": {},
     "output_type": "execute_result"
    }
   ],
   "source": [
    "5 // 2"
   ]
  },
  {
   "cell_type": "code",
   "execution_count": 21,
   "metadata": {},
   "outputs": [
    {
     "data": {
      "text/plain": [
       "1"
      ]
     },
     "execution_count": 21,
     "metadata": {},
     "output_type": "execute_result"
    }
   ],
   "source": [
    "4 % 3"
   ]
  },
  {
   "cell_type": "code",
   "execution_count": 33,
   "metadata": {},
   "outputs": [
    {
     "data": {
      "text/plain": [
       "4"
      ]
     },
     "execution_count": 33,
     "metadata": {},
     "output_type": "execute_result"
    }
   ],
   "source": [
    "\"\" or 4"
   ]
  },
  {
   "cell_type": "code",
   "execution_count": 45,
   "metadata": {},
   "outputs": [
    {
     "name": "stdout",
     "output_type": "stream",
     "text": [
      "1\n",
      "2\n",
      "Fizz\n",
      "4\n",
      "Buzz\n",
      "Fizz\n",
      "7\n",
      "8\n",
      "Fizz\n",
      "Buzz\n",
      "11\n",
      "Fizz\n",
      "13\n",
      "14\n",
      "FizzBuzz\n",
      "16\n",
      "17\n",
      "Fizz\n",
      "19\n",
      "Buzz\n"
     ]
    }
   ],
   "source": [
    "for i in range(1, 21):\n",
    "    if i%3 == 0:\n",
    "        print(\"Fizz\", end=\"\")\n",
    "    if i%5 == 0:\n",
    "        print(\"Buzz\", end=\"\")\n",
    "    if i%3 != 0 and i%5 != 0:\n",
    "        print(i, end=\"\")\n",
    "    print()  # end=\"\\n\""
   ]
  },
  {
   "cell_type": "code",
   "execution_count": 42,
   "metadata": {},
   "outputs": [
    {
     "name": "stdout",
     "output_type": "stream",
     "text": [
      "FizzBuzz\n"
     ]
    }
   ],
   "source": [
    "print(\"Fizz\", end=\"\")\n",
    "print(\"Buzz\")"
   ]
  },
  {
   "cell_type": "markdown",
   "metadata": {},
   "source": [
    "# Tabla de verdad de AND (OR) (XOR)"
   ]
  },
  {
   "cell_type": "code",
   "execution_count": 58,
   "metadata": {},
   "outputs": [
    {
     "name": "stdout",
     "output_type": "stream",
     "text": [
      "Tabla de valor de AND\n",
      "--------------------\n",
      "True True True\n",
      "True False False\n",
      "False True False\n",
      "False False False\n",
      "--------------------\n"
     ]
    }
   ],
   "source": [
    "val = [\n",
    "    (True, True),\n",
    "    (True, False),\n",
    "    (False, True),\n",
    "    (False, False)\n",
    "]\n",
    "print(\"Tabla de valor de AND\")\n",
    "print(\"-\" * 20)\n",
    "for (i, j) in val:\n",
    "    print(i, j, i and j)\n",
    "print(\"-\" * 20)\n"
   ]
  },
  {
   "cell_type": "code",
   "execution_count": 53,
   "metadata": {},
   "outputs": [
    {
     "data": {
      "text/plain": [
       "False"
      ]
     },
     "execution_count": 53,
     "metadata": {},
     "output_type": "execute_result"
    }
   ],
   "source": [
    "True and False"
   ]
  },
  {
   "cell_type": "code",
   "execution_count": 54,
   "metadata": {},
   "outputs": [
    {
     "data": {
      "text/plain": [
       "True"
      ]
     },
     "execution_count": 54,
     "metadata": {},
     "output_type": "execute_result"
    }
   ],
   "source": [
    "True or False"
   ]
  },
  {
   "cell_type": "code",
   "execution_count": 57,
   "metadata": {},
   "outputs": [
    {
     "data": {
      "text/plain": [
       "False"
      ]
     },
     "execution_count": 57,
     "metadata": {},
     "output_type": "execute_result"
    }
   ],
   "source": [
    "True ^ True  # xor en python"
   ]
  },
  {
   "cell_type": "markdown",
   "metadata": {},
   "source": [
    "# If anidados en python"
   ]
  },
  {
   "cell_type": "code",
   "execution_count": 71,
   "metadata": {},
   "outputs": [
    {
     "name": "stdout",
     "output_type": "stream",
     "text": [
      "Sin rango\n"
     ]
    }
   ],
   "source": [
    "a = 31\n",
    "if 1 <= a and a <= 10:\n",
    "    print(\"Rango 1\")\n",
    "elif 11 <= a and a <= 20:\n",
    "    print(\"Rango 2\")\n",
    "elif 21 <= a and a <= 30:\n",
    "    print(\"Rango 3\")\n",
    "else:\n",
    "    print(\"Sin rango\")"
   ]
  },
  {
   "cell_type": "code",
   "execution_count": 74,
   "metadata": {},
   "outputs": [],
   "source": [
    "import pdb  # depuración con python"
   ]
  },
  {
   "cell_type": "code",
   "execution_count": 73,
   "metadata": {},
   "outputs": [
    {
     "data": {
      "text/plain": [
       "\u001b[0;31mType:\u001b[0m        module\n",
       "\u001b[0;31mString form:\u001b[0m <module 'pdb' from '/home/rctorr/miniconda3/lib/python3.7/pdb.py'>\n",
       "\u001b[0;31mFile:\u001b[0m        ~/miniconda3/lib/python3.7/pdb.py\n",
       "\u001b[0;31mDocstring:\u001b[0m  \n",
       "The Python Debugger Pdb\n",
       "=======================\n",
       "\n",
       "To use the debugger in its simplest form:\n",
       "\n",
       "        >>> import pdb\n",
       "        >>> pdb.run('<a statement>')\n",
       "\n",
       "The debugger's prompt is '(Pdb) '.  This will stop in the first\n",
       "function call in <a statement>.\n",
       "\n",
       "Alternatively, if a statement terminated with an unhandled exception,\n",
       "you can use pdb's post-mortem facility to inspect the contents of the\n",
       "traceback:\n",
       "\n",
       "        >>> <a statement>\n",
       "        <exception traceback>\n",
       "        >>> import pdb\n",
       "        >>> pdb.pm()\n",
       "\n",
       "The commands recognized by the debugger are listed in the next\n",
       "section.  Most can be abbreviated as indicated; e.g., h(elp) means\n",
       "that 'help' can be typed as 'h' or 'help' (but not as 'he' or 'hel',\n",
       "nor as 'H' or 'Help' or 'HELP').  Optional arguments are enclosed in\n",
       "square brackets.  Alternatives in the command syntax are separated\n",
       "by a vertical bar (|).\n",
       "\n",
       "A blank line repeats the previous command literally, except for\n",
       "'list', where it lists the next 11 lines.\n",
       "\n",
       "Commands that the debugger doesn't recognize are assumed to be Python\n",
       "statements and are executed in the context of the program being\n",
       "debugged.  Python statements can also be prefixed with an exclamation\n",
       "point ('!').  This is a powerful way to inspect the program being\n",
       "debugged; it is even possible to change variables or call functions.\n",
       "When an exception occurs in such a statement, the exception name is\n",
       "printed but the debugger's state is not changed.\n",
       "\n",
       "The debugger supports aliases, which can save typing.  And aliases can\n",
       "have parameters (see the alias help entry) which allows one a certain\n",
       "level of adaptability to the context under examination.\n",
       "\n",
       "Multiple commands may be entered on a single line, separated by the\n",
       "pair ';;'.  No intelligence is applied to separating the commands; the\n",
       "input is split at the first ';;', even if it is in the middle of a\n",
       "quoted string.\n",
       "\n",
       "If a file \".pdbrc\" exists in your home directory or in the current\n",
       "directory, it is read in and executed as if it had been typed at the\n",
       "debugger prompt.  This is particularly useful for aliases.  If both\n",
       "files exist, the one in the home directory is read first and aliases\n",
       "defined there can be overridden by the local file.  This behavior can be\n",
       "disabled by passing the \"readrc=False\" argument to the Pdb constructor.\n",
       "\n",
       "Aside from aliases, the debugger is not directly programmable; but it\n",
       "is implemented as a class from which you can derive your own debugger\n",
       "class, which you can make as fancy as you like.\n",
       "\n",
       "\n",
       "Debugger commands\n",
       "=================\n",
       "\n",
       "h(elp)\n",
       "        Without argument, print the list of available commands.\n",
       "        With a command name as argument, print help about that command.\n",
       "        \"help pdb\" shows the full pdb documentation.\n",
       "        \"help exec\" gives help on the ! command.\n",
       "\n",
       "w(here)\n",
       "        Print a stack trace, with the most recent frame at the bottom.\n",
       "        An arrow indicates the \"current frame\", which determines the\n",
       "        context of most commands.  'bt' is an alias for this command.\n",
       "\n",
       "d(own) [count]\n",
       "        Move the current frame count (default one) levels down in the\n",
       "        stack trace (to a newer frame).\n",
       "\n",
       "u(p) [count]\n",
       "        Move the current frame count (default one) levels up in the\n",
       "        stack trace (to an older frame).\n",
       "\n",
       "b(reak) [ ([filename:]lineno | function) [, condition] ]\n",
       "        Without argument, list all breaks.\n",
       "\n",
       "        With a line number argument, set a break at this line in the\n",
       "        current file.  With a function name, set a break at the first\n",
       "        executable line of that function.  If a second argument is\n",
       "        present, it is a string specifying an expression which must\n",
       "        evaluate to true before the breakpoint is honored.\n",
       "\n",
       "        The line number may be prefixed with a filename and a colon,\n",
       "        to specify a breakpoint in another file (probably one that\n",
       "        hasn't been loaded yet).  The file is searched for on\n",
       "        sys.path; the .py suffix may be omitted.\n",
       "\n",
       "tbreak [ ([filename:]lineno | function) [, condition] ]\n",
       "        Same arguments as break, but sets a temporary breakpoint: it\n",
       "        is automatically deleted when first hit.\n",
       "\n",
       "cl(ear) filename:lineno\n",
       "cl(ear) [bpnumber [bpnumber...]]\n",
       "        With a space separated list of breakpoint numbers, clear\n",
       "        those breakpoints.  Without argument, clear all breaks (but\n",
       "        first ask confirmation).  With a filename:lineno argument,\n",
       "        clear all breaks at that line in that file.\n",
       "\n",
       "disable bpnumber [bpnumber ...]\n",
       "        Disables the breakpoints given as a space separated list of\n",
       "        breakpoint numbers.  Disabling a breakpoint means it cannot\n",
       "        cause the program to stop execution, but unlike clearing a\n",
       "        breakpoint, it remains in the list of breakpoints and can be\n",
       "        (re-)enabled.\n",
       "\n",
       "enable bpnumber [bpnumber ...]\n",
       "        Enables the breakpoints given as a space separated list of\n",
       "        breakpoint numbers.\n",
       "\n",
       "ignore bpnumber [count]\n",
       "        Set the ignore count for the given breakpoint number.  If\n",
       "        count is omitted, the ignore count is set to 0.  A breakpoint\n",
       "        becomes active when the ignore count is zero.  When non-zero,\n",
       "        the count is decremented each time the breakpoint is reached\n",
       "        and the breakpoint is not disabled and any associated\n",
       "        condition evaluates to true.\n",
       "\n",
       "condition bpnumber [condition]\n",
       "        Set a new condition for the breakpoint, an expression which\n",
       "        must evaluate to true before the breakpoint is honored.  If\n",
       "        condition is absent, any existing condition is removed; i.e.,\n",
       "        the breakpoint is made unconditional.\n",
       "\n",
       "commands [bpnumber]\n",
       "        (com) ...\n",
       "        (com) end\n",
       "        (Pdb)\n",
       "\n",
       "        Specify a list of commands for breakpoint number bpnumber.\n",
       "        The commands themselves are entered on the following lines.\n",
       "        Type a line containing just 'end' to terminate the commands.\n",
       "        The commands are executed when the breakpoint is hit.\n",
       "\n",
       "        To remove all commands from a breakpoint, type commands and\n",
       "        follow it immediately with end; that is, give no commands.\n",
       "\n",
       "        With no bpnumber argument, commands refers to the last\n",
       "        breakpoint set.\n",
       "\n",
       "        You can use breakpoint commands to start your program up\n",
       "        again.  Simply use the continue command, or step, or any other\n",
       "        command that resumes execution.\n",
       "\n",
       "        Specifying any command resuming execution (currently continue,\n",
       "        step, next, return, jump, quit and their abbreviations)\n",
       "        terminates the command list (as if that command was\n",
       "        immediately followed by end).  This is because any time you\n",
       "        resume execution (even with a simple next or step), you may\n",
       "        encounter another breakpoint -- which could have its own\n",
       "        command list, leading to ambiguities about which list to\n",
       "        execute.\n",
       "\n",
       "        If you use the 'silent' command in the command list, the usual\n",
       "        message about stopping at a breakpoint is not printed.  This\n",
       "        may be desirable for breakpoints that are to print a specific\n",
       "        message and then continue.  If none of the other commands\n",
       "        print anything, you will see no sign that the breakpoint was\n",
       "        reached.\n",
       "\n",
       "s(tep)\n",
       "        Execute the current line, stop at the first possible occasion\n",
       "        (either in a function that is called or in the current\n",
       "        function).\n",
       "\n",
       "n(ext)\n",
       "        Continue execution until the next line in the current function\n",
       "        is reached or it returns.\n",
       "\n",
       "unt(il) [lineno]\n",
       "        Without argument, continue execution until the line with a\n",
       "        number greater than the current one is reached.  With a line\n",
       "        number, continue execution until a line with a number greater\n",
       "        or equal to that is reached.  In both cases, also stop when\n",
       "        the current frame returns.\n",
       "\n",
       "j(ump) lineno\n",
       "        Set the next line that will be executed.  Only available in\n",
       "        the bottom-most frame.  This lets you jump back and execute\n",
       "        code again, or jump forward to skip code that you don't want\n",
       "        to run.\n",
       "\n",
       "        It should be noted that not all jumps are allowed -- for\n",
       "        instance it is not possible to jump into the middle of a\n",
       "        for loop or out of a finally clause.\n",
       "\n",
       "r(eturn)\n",
       "        Continue execution until the current function returns.\n",
       "\n",
       "retval\n",
       "        Print the return value for the last return of a function.\n",
       "\n",
       "run [args...]\n",
       "        Restart the debugged python program. If a string is supplied\n",
       "        it is split with \"shlex\", and the result is used as the new\n",
       "        sys.argv.  History, breakpoints, actions and debugger options\n",
       "        are preserved.  \"restart\" is an alias for \"run\".\n",
       "\n",
       "c(ont(inue))\n",
       "        Continue execution, only stop when a breakpoint is encountered.\n",
       "\n",
       "l(ist) [first [,last] | .]\n",
       "\n",
       "        List source code for the current file.  Without arguments,\n",
       "        list 11 lines around the current line or continue the previous\n",
       "        listing.  With . as argument, list 11 lines around the current\n",
       "        line.  With one argument, list 11 lines starting at that line.\n",
       "        With two arguments, list the given range; if the second\n",
       "        argument is less than the first, it is a count.\n",
       "\n",
       "        The current line in the current frame is indicated by \"->\".\n",
       "        If an exception is being debugged, the line where the\n",
       "        exception was originally raised or propagated is indicated by\n",
       "        \">>\", if it differs from the current line.\n",
       "\n",
       "longlist | ll\n",
       "        List the whole source code for the current function or frame.\n",
       "\n",
       "a(rgs)\n",
       "        Print the argument list of the current function.\n",
       "\n",
       "p expression\n",
       "        Print the value of the expression.\n",
       "\n",
       "pp expression\n",
       "        Pretty-print the value of the expression.\n",
       "\n",
       "whatis arg\n",
       "        Print the type of the argument.\n",
       "\n",
       "source expression\n",
       "        Try to get source code for the given object and display it.\n",
       "\n",
       "display [expression]\n",
       "\n",
       "        Display the value of the expression if it changed, each time execution\n",
       "        stops in the current frame.\n",
       "\n",
       "        Without expression, list all display expressions for the current frame.\n",
       "\n",
       "undisplay [expression]\n",
       "\n",
       "        Do not display the expression any more in the current frame.\n",
       "\n",
       "        Without expression, clear all display expressions for the current frame.\n",
       "\n",
       "interact\n",
       "\n",
       "        Start an interactive interpreter whose global namespace\n",
       "        contains all the (global and local) names found in the current scope.\n",
       "\n",
       "alias [name [command [parameter parameter ...] ]]\n",
       "        Create an alias called 'name' that executes 'command'.  The\n",
       "        command must *not* be enclosed in quotes.  Replaceable\n",
       "        parameters can be indicated by %1, %2, and so on, while %* is\n",
       "        replaced by all the parameters.  If no command is given, the\n",
       "        current alias for name is shown. If no name is given, all\n",
       "        aliases are listed.\n",
       "\n",
       "        Aliases may be nested and can contain anything that can be\n",
       "        legally typed at the pdb prompt.  Note!  You *can* override\n",
       "        internal pdb commands with aliases!  Those internal commands\n",
       "        are then hidden until the alias is removed.  Aliasing is\n",
       "        recursively applied to the first word of the command line; all\n",
       "        other words in the line are left alone.\n",
       "\n",
       "        As an example, here are two useful aliases (especially when\n",
       "        placed in the .pdbrc file):\n",
       "\n",
       "        # Print instance variables (usage \"pi classInst\")\n",
       "        alias pi for k in %1.__dict__.keys(): print(\"%1.\",k,\"=\",%1.__dict__[k])\n",
       "        # Print instance variables in self\n",
       "        alias ps pi self\n",
       "\n",
       "unalias name\n",
       "        Delete the specified alias.\n",
       "\n",
       "debug code\n",
       "        Enter a recursive debugger that steps through the code\n",
       "        argument (which is an arbitrary expression or statement to be\n",
       "        executed in the current environment).\n",
       "\n",
       "q(uit)\n",
       "exit\n",
       "        Quit from the debugger. The program being executed is aborted.\n",
       "\n",
       "(!) statement\n",
       "        Execute the (one-line) statement in the context of the current\n",
       "        stack frame.  The exclamation point can be omitted unless the\n",
       "        first word of the statement resembles a debugger command.  To\n",
       "        assign to a global variable you must always prefix the command\n",
       "        with a 'global' command, e.g.:\n",
       "        (Pdb) global list_options; list_options = ['-l']\n",
       "        (Pdb)\n",
       "        \n"
      ]
     },
     "metadata": {},
     "output_type": "display_data"
    }
   ],
   "source": [
    "pdb?"
   ]
  },
  {
   "cell_type": "code",
   "execution_count": null,
   "metadata": {},
   "outputs": [],
   "source": []
  }
 ],
 "metadata": {
  "kernelspec": {
   "display_name": "Python 3",
   "language": "python",
   "name": "python3"
  },
  "language_info": {
   "codemirror_mode": {
    "name": "ipython",
    "version": 3
   },
   "file_extension": ".py",
   "mimetype": "text/x-python",
   "name": "python",
   "nbconvert_exporter": "python",
   "pygments_lexer": "ipython3",
   "version": "3.7.4"
  }
 },
 "nbformat": 4,
 "nbformat_minor": 4
}
